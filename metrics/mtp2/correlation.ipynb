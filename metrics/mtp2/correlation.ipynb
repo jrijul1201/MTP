{
 "cells": [
  {
   "cell_type": "code",
   "execution_count": 11,
   "metadata": {},
   "outputs": [],
   "source": [
    "import pandas as pd\n",
    "import numpy as np\n",
    "\n",
    "# Assuming 6 nodes and 10 seconds of data record\n",
    "# Create a DataFrame with random numeric values\n",
    "data = np.random.randint(0, 100, size=(10, 6))\n",
    "columns = [\n",
    "    \"node1\",\n",
    "    \"node2\",\n",
    "    \"node3\",\n",
    "    \"node4\",\n",
    "    \"node5\",\n",
    "    \"node6\",\n",
    "]  # Renaming the column names\n",
    "df = pd.DataFrame(data, columns=columns)"
   ]
  },
  {
   "cell_type": "code",
   "execution_count": 12,
   "metadata": {},
   "outputs": [
    {
     "data": {
      "text/html": [
       "<div>\n",
       "<style scoped>\n",
       "    .dataframe tbody tr th:only-of-type {\n",
       "        vertical-align: middle;\n",
       "    }\n",
       "\n",
       "    .dataframe tbody tr th {\n",
       "        vertical-align: top;\n",
       "    }\n",
       "\n",
       "    .dataframe thead th {\n",
       "        text-align: right;\n",
       "    }\n",
       "</style>\n",
       "<table border=\"1\" class=\"dataframe\">\n",
       "  <thead>\n",
       "    <tr style=\"text-align: right;\">\n",
       "      <th></th>\n",
       "      <th>node1</th>\n",
       "      <th>node2</th>\n",
       "      <th>node3</th>\n",
       "      <th>node4</th>\n",
       "      <th>node5</th>\n",
       "      <th>node6</th>\n",
       "    </tr>\n",
       "  </thead>\n",
       "  <tbody>\n",
       "    <tr>\n",
       "      <th>0</th>\n",
       "      <td>67</td>\n",
       "      <td>75</td>\n",
       "      <td>71</td>\n",
       "      <td>8</td>\n",
       "      <td>31</td>\n",
       "      <td>90</td>\n",
       "    </tr>\n",
       "    <tr>\n",
       "      <th>1</th>\n",
       "      <td>11</td>\n",
       "      <td>14</td>\n",
       "      <td>65</td>\n",
       "      <td>91</td>\n",
       "      <td>9</td>\n",
       "      <td>72</td>\n",
       "    </tr>\n",
       "    <tr>\n",
       "      <th>2</th>\n",
       "      <td>18</td>\n",
       "      <td>36</td>\n",
       "      <td>81</td>\n",
       "      <td>71</td>\n",
       "      <td>82</td>\n",
       "      <td>40</td>\n",
       "    </tr>\n",
       "    <tr>\n",
       "      <th>3</th>\n",
       "      <td>90</td>\n",
       "      <td>52</td>\n",
       "      <td>95</td>\n",
       "      <td>78</td>\n",
       "      <td>15</td>\n",
       "      <td>1</td>\n",
       "    </tr>\n",
       "    <tr>\n",
       "      <th>4</th>\n",
       "      <td>11</td>\n",
       "      <td>48</td>\n",
       "      <td>34</td>\n",
       "      <td>81</td>\n",
       "      <td>27</td>\n",
       "      <td>42</td>\n",
       "    </tr>\n",
       "    <tr>\n",
       "      <th>5</th>\n",
       "      <td>3</td>\n",
       "      <td>63</td>\n",
       "      <td>70</td>\n",
       "      <td>51</td>\n",
       "      <td>11</td>\n",
       "      <td>20</td>\n",
       "    </tr>\n",
       "    <tr>\n",
       "      <th>6</th>\n",
       "      <td>74</td>\n",
       "      <td>58</td>\n",
       "      <td>9</td>\n",
       "      <td>47</td>\n",
       "      <td>15</td>\n",
       "      <td>43</td>\n",
       "    </tr>\n",
       "    <tr>\n",
       "      <th>7</th>\n",
       "      <td>80</td>\n",
       "      <td>69</td>\n",
       "      <td>42</td>\n",
       "      <td>87</td>\n",
       "      <td>60</td>\n",
       "      <td>94</td>\n",
       "    </tr>\n",
       "    <tr>\n",
       "      <th>8</th>\n",
       "      <td>94</td>\n",
       "      <td>2</td>\n",
       "      <td>67</td>\n",
       "      <td>84</td>\n",
       "      <td>77</td>\n",
       "      <td>6</td>\n",
       "    </tr>\n",
       "    <tr>\n",
       "      <th>9</th>\n",
       "      <td>47</td>\n",
       "      <td>67</td>\n",
       "      <td>58</td>\n",
       "      <td>44</td>\n",
       "      <td>67</td>\n",
       "      <td>48</td>\n",
       "    </tr>\n",
       "  </tbody>\n",
       "</table>\n",
       "</div>"
      ],
      "text/plain": [
       "   node1  node2  node3  node4  node5  node6\n",
       "0     67     75     71      8     31     90\n",
       "1     11     14     65     91      9     72\n",
       "2     18     36     81     71     82     40\n",
       "3     90     52     95     78     15      1\n",
       "4     11     48     34     81     27     42\n",
       "5      3     63     70     51     11     20\n",
       "6     74     58      9     47     15     43\n",
       "7     80     69     42     87     60     94\n",
       "8     94      2     67     84     77      6\n",
       "9     47     67     58     44     67     48"
      ]
     },
     "execution_count": 12,
     "metadata": {},
     "output_type": "execute_result"
    }
   ],
   "source": [
    "df"
   ]
  },
  {
   "cell_type": "code",
   "execution_count": 13,
   "metadata": {},
   "outputs": [],
   "source": [
    "# Compute correlation matrix\n",
    "correlation_matrix = df.corr()"
   ]
  },
  {
   "cell_type": "code",
   "execution_count": 14,
   "metadata": {},
   "outputs": [
    {
     "data": {
      "text/html": [
       "<div>\n",
       "<style scoped>\n",
       "    .dataframe tbody tr th:only-of-type {\n",
       "        vertical-align: middle;\n",
       "    }\n",
       "\n",
       "    .dataframe tbody tr th {\n",
       "        vertical-align: top;\n",
       "    }\n",
       "\n",
       "    .dataframe thead th {\n",
       "        text-align: right;\n",
       "    }\n",
       "</style>\n",
       "<table border=\"1\" class=\"dataframe\">\n",
       "  <thead>\n",
       "    <tr style=\"text-align: right;\">\n",
       "      <th></th>\n",
       "      <th>node1</th>\n",
       "      <th>node2</th>\n",
       "      <th>node3</th>\n",
       "      <th>node4</th>\n",
       "      <th>node5</th>\n",
       "      <th>node6</th>\n",
       "    </tr>\n",
       "  </thead>\n",
       "  <tbody>\n",
       "    <tr>\n",
       "      <th>node1</th>\n",
       "      <td>1.000000</td>\n",
       "      <td>0.053036</td>\n",
       "      <td>-0.023677</td>\n",
       "      <td>-0.058835</td>\n",
       "      <td>0.227190</td>\n",
       "      <td>-0.086422</td>\n",
       "    </tr>\n",
       "    <tr>\n",
       "      <th>node2</th>\n",
       "      <td>0.053036</td>\n",
       "      <td>1.000000</td>\n",
       "      <td>-0.199178</td>\n",
       "      <td>-0.636687</td>\n",
       "      <td>-0.196869</td>\n",
       "      <td>0.380282</td>\n",
       "    </tr>\n",
       "    <tr>\n",
       "      <th>node3</th>\n",
       "      <td>-0.023677</td>\n",
       "      <td>-0.199178</td>\n",
       "      <td>1.000000</td>\n",
       "      <td>0.037277</td>\n",
       "      <td>0.141318</td>\n",
       "      <td>-0.312015</td>\n",
       "    </tr>\n",
       "    <tr>\n",
       "      <th>node4</th>\n",
       "      <td>-0.058835</td>\n",
       "      <td>-0.636687</td>\n",
       "      <td>0.037277</td>\n",
       "      <td>1.000000</td>\n",
       "      <td>0.124763</td>\n",
       "      <td>-0.243935</td>\n",
       "    </tr>\n",
       "    <tr>\n",
       "      <th>node5</th>\n",
       "      <td>0.227190</td>\n",
       "      <td>-0.196869</td>\n",
       "      <td>0.141318</td>\n",
       "      <td>0.124763</td>\n",
       "      <td>1.000000</td>\n",
       "      <td>0.009980</td>\n",
       "    </tr>\n",
       "    <tr>\n",
       "      <th>node6</th>\n",
       "      <td>-0.086422</td>\n",
       "      <td>0.380282</td>\n",
       "      <td>-0.312015</td>\n",
       "      <td>-0.243935</td>\n",
       "      <td>0.009980</td>\n",
       "      <td>1.000000</td>\n",
       "    </tr>\n",
       "  </tbody>\n",
       "</table>\n",
       "</div>"
      ],
      "text/plain": [
       "          node1     node2     node3     node4     node5     node6\n",
       "node1  1.000000  0.053036 -0.023677 -0.058835  0.227190 -0.086422\n",
       "node2  0.053036  1.000000 -0.199178 -0.636687 -0.196869  0.380282\n",
       "node3 -0.023677 -0.199178  1.000000  0.037277  0.141318 -0.312015\n",
       "node4 -0.058835 -0.636687  0.037277  1.000000  0.124763 -0.243935\n",
       "node5  0.227190 -0.196869  0.141318  0.124763  1.000000  0.009980\n",
       "node6 -0.086422  0.380282 -0.312015 -0.243935  0.009980  1.000000"
      ]
     },
     "execution_count": 14,
     "metadata": {},
     "output_type": "execute_result"
    }
   ],
   "source": [
    "correlation_matrix"
   ]
  },
  {
   "cell_type": "code",
   "execution_count": 15,
   "metadata": {},
   "outputs": [],
   "source": [
    "# Extract correlation coefficients\n",
    "correlation_coefficients = correlation_matrix.values"
   ]
  },
  {
   "cell_type": "code",
   "execution_count": 16,
   "metadata": {},
   "outputs": [
    {
     "data": {
      "text/plain": [
       "array([[ 1.        ,  0.05303553, -0.02367722, -0.05883521,  0.22719027,\n",
       "        -0.08642184],\n",
       "       [ 0.05303553,  1.        , -0.19917808, -0.63668687, -0.19686903,\n",
       "         0.38028189],\n",
       "       [-0.02367722, -0.19917808,  1.        ,  0.0372767 ,  0.14131756,\n",
       "        -0.31201501],\n",
       "       [-0.05883521, -0.63668687,  0.0372767 ,  1.        ,  0.1247635 ,\n",
       "        -0.24393533],\n",
       "       [ 0.22719027, -0.19686903,  0.14131756,  0.1247635 ,  1.        ,\n",
       "         0.00998046],\n",
       "       [-0.08642184,  0.38028189, -0.31201501, -0.24393533,  0.00998046,\n",
       "         1.        ]])"
      ]
     },
     "execution_count": 16,
     "metadata": {},
     "output_type": "execute_result"
    }
   ],
   "source": [
    "correlation_coefficients"
   ]
  },
  {
   "cell_type": "code",
   "execution_count": 17,
   "metadata": {},
   "outputs": [],
   "source": [
    "# Compute overall correlation\n",
    "overall_correlation = correlation_coefficients.mean()"
   ]
  },
  {
   "cell_type": "code",
   "execution_count": 18,
   "metadata": {},
   "outputs": [
    {
     "data": {
      "text/plain": [
       "0.12312374017478585"
      ]
     },
     "execution_count": 18,
     "metadata": {},
     "output_type": "execute_result"
    }
   ],
   "source": [
    "overall_correlation"
   ]
  }
 ],
 "metadata": {
  "kernelspec": {
   "display_name": "Python 3",
   "language": "python",
   "name": "python3"
  },
  "language_info": {
   "codemirror_mode": {
    "name": "ipython",
    "version": 3
   },
   "file_extension": ".py",
   "mimetype": "text/x-python",
   "name": "python",
   "nbconvert_exporter": "python",
   "pygments_lexer": "ipython3",
   "version": "3.10.12"
  }
 },
 "nbformat": 4,
 "nbformat_minor": 2
}
