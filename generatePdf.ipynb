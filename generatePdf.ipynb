{
 "cells": [
  {
   "cell_type": "code",
   "execution_count": 26,
   "metadata": {},
   "outputs": [],
   "source": [
    "import os\n",
    "from reportlab.pdfgen import canvas\n",
    "from reportlab.lib.pagesizes import A4\n",
    "\n",
    "# Get the list of all folders in the results directory\n",
    "results_dir = \"/home/dipesh/ns-allinone-3.36.1/ns-3.36.1/examples/results\"\n",
    "folders = os.listdir(results_dir)\n",
    "\n",
    "folders.sort()\n",
    "\n",
    "# Create a new PDF canvas\n",
    "pdf = canvas.Canvas(\"results.pdf\", pagesize=A4)\n",
    "num_images_added = 0\n",
    "# Iterate over the folders and generate a section for each one\n",
    "for folder in folders:\n",
    "\n",
    "    # Get the list of all images in the folder\n",
    "    if(not os.path.exists(os.path.join(results_dir, folder, \"plots\"))): \n",
    "        continue\n",
    "    images = os.listdir(os.path.join(results_dir, folder, \"plots\"))\n",
    "\n",
    "    # Add a section header for the folder\n",
    "    pdf.setFont(\"Helvetica\", 16)\n",
    "    pdf.drawString(100, 700, folder)\n",
    "\n",
    "    # Iterate over the images and add them to the PDF\n",
    "    img1, img2, img3, img4 = images\n",
    "    pdf.drawImage(os.path.join(results_dir, folder, \"plots\", img1),50, 50, width=250, height=250)\n",
    "    pdf.drawImage(os.path.join(results_dir, folder, \"plots\", img2),300, 50, width=250, height=250)\n",
    "    pdf.drawImage(os.path.join(results_dir, folder, \"plots\", img3),50, 300, width=250, height=250)\n",
    "    pdf.drawImage(os.path.join(results_dir, folder, \"plots\", img4),300, 300, width=250, height=250)\n",
    "    pdf.showPage()\n",
    "\n",
    "        # Move to the next page if necessary\n",
    "\n",
    "# Save the PDF file\n",
    "pdf.save()"
   ]
  },
  {
   "cell_type": "code",
   "execution_count": null,
   "metadata": {},
   "outputs": [],
   "source": []
  }
 ],
 "metadata": {
  "kernelspec": {
   "display_name": "Python 3",
   "language": "python",
   "name": "python3"
  },
  "language_info": {
   "codemirror_mode": {
    "name": "ipython",
    "version": 3
   },
   "file_extension": ".py",
   "mimetype": "text/x-python",
   "name": "python",
   "nbconvert_exporter": "python",
   "pygments_lexer": "ipython3",
   "version": "3.10.12"
  }
 },
 "nbformat": 4,
 "nbformat_minor": 2
}
